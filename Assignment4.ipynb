{
 "cells": [
  {
   "cell_type": "markdown",
   "id": "3c8c9fd5",
   "metadata": {},
   "source": [
    "Question 1"
   ]
  },
  {
   "cell_type": "markdown",
   "id": "025751e4",
   "metadata": {},
   "source": [
    "These brackets are used to declare a list and insert the elements "
   ]
  },
  {
   "cell_type": "markdown",
   "id": "a5955bd2",
   "metadata": {},
   "source": [
    "Question 2"
   ]
  },
  {
   "cell_type": "code",
   "execution_count": 4,
   "id": "521bc4ce",
   "metadata": {},
   "outputs": [
    {
     "data": {
      "text/plain": [
       "[2, 4, 'hello', 6, 8, 10]"
      ]
     },
     "execution_count": 4,
     "metadata": {},
     "output_type": "execute_result"
    }
   ],
   "source": [
    "spam = [2,4,6,8,10]\n",
    "spam.insert(2,'hello')\n",
    "spam #3rd value 2nd index"
   ]
  },
  {
   "cell_type": "markdown",
   "id": "32fe555d",
   "metadata": {},
   "source": [
    "Question 3"
   ]
  },
  {
   "cell_type": "markdown",
   "id": "8c7b3636",
   "metadata": {},
   "source": [
    "33/11 = 3, so 3rd index  is 6"
   ]
  },
  {
   "cell_type": "markdown",
   "id": "540781e7",
   "metadata": {},
   "source": [
    "Question 4"
   ]
  },
  {
   "cell_type": "code",
   "execution_count": 12,
   "id": "356666ec",
   "metadata": {},
   "outputs": [
    {
     "data": {
      "text/plain": [
       "10"
      ]
     },
     "execution_count": 12,
     "metadata": {},
     "output_type": "execute_result"
    }
   ],
   "source": [
    "spam[-1]"
   ]
  },
  {
   "cell_type": "markdown",
   "id": "48564710",
   "metadata": {},
   "source": [
    "Question 5"
   ]
  },
  {
   "cell_type": "code",
   "execution_count": 14,
   "id": "4009716f",
   "metadata": {},
   "outputs": [
    {
     "data": {
      "text/plain": [
       "[2, 4]"
      ]
     },
     "execution_count": 14,
     "metadata": {},
     "output_type": "execute_result"
    }
   ],
   "source": [
    "spam[:2]#1st 2 indexes will be printed ie 2,4"
   ]
  },
  {
   "cell_type": "markdown",
   "id": "d214e876",
   "metadata": {},
   "source": [
    "Question 6"
   ]
  },
  {
   "cell_type": "markdown",
   "id": "06bf048f",
   "metadata": {},
   "source": [
    "only the 1st index will be printed ie 1."
   ]
  },
  {
   "cell_type": "markdown",
   "id": "910234ca",
   "metadata": {},
   "source": [
    "Question 7"
   ]
  },
  {
   "cell_type": "markdown",
   "id": "d3cabfc9",
   "metadata": {},
   "source": [
    "99 will be added to the end of the list in bacon.\n",
    "[3.14,'cat',11,'cat',True,99]"
   ]
  },
  {
   "cell_type": "markdown",
   "id": "cd223e9e",
   "metadata": {},
   "source": [
    "Question 8"
   ]
  },
  {
   "cell_type": "markdown",
   "id": "67be8623",
   "metadata": {},
   "source": [
    "1st cat will be removed, ie [3.14,11,'cat',True,99]"
   ]
  },
  {
   "cell_type": "markdown",
   "id": "e8e8526b",
   "metadata": {},
   "source": [
    "Question 9 "
   ]
  },
  {
   "cell_type": "markdown",
   "id": "fab62b51",
   "metadata": {},
   "source": [
    "operator for concatination = +. \n",
    "operator for replication = *"
   ]
  },
  {
   "cell_type": "markdown",
   "id": "a0015714",
   "metadata": {},
   "source": [
    "Question 10"
   ]
  },
  {
   "cell_type": "markdown",
   "id": "cbbffb5c",
   "metadata": {},
   "source": [
    "append allows to insert element only at the end of the list while insert allows insertion at specific location"
   ]
  },
  {
   "cell_type": "markdown",
   "id": "50e366e9",
   "metadata": {},
   "source": [
    "Question 11"
   ]
  },
  {
   "cell_type": "markdown",
   "id": "408416a6",
   "metadata": {},
   "source": [
    "using pop() removes element from end of the list.\n",
    "using remove(element to be deleted) will remove element from the list"
   ]
  },
  {
   "cell_type": "markdown",
   "id": "e9e4fb45",
   "metadata": {},
   "source": [
    "Question 12"
   ]
  },
  {
   "cell_type": "markdown",
   "id": "4a07ea75",
   "metadata": {},
   "source": [
    "list values are sequence of object types(any data type), while string values are sequence of characters(string data type), they both are ordered sequence"
   ]
  },
  {
   "cell_type": "markdown",
   "id": "36d11c2b",
   "metadata": {},
   "source": [
    "Question 13"
   ]
  },
  {
   "cell_type": "markdown",
   "id": "79139f5e",
   "metadata": {},
   "source": [
    "Elements in a list are mutable while elements in a tuple are immutable, but tuples are much faster than lists"
   ]
  },
  {
   "cell_type": "markdown",
   "id": "e1672d27",
   "metadata": {},
   "source": [
    "Question 14"
   ]
  },
  {
   "cell_type": "code",
   "execution_count": 31,
   "id": "423e639c",
   "metadata": {},
   "outputs": [
    {
     "data": {
      "text/plain": [
       "42"
      ]
     },
     "execution_count": 31,
     "metadata": {},
     "output_type": "execute_result"
    }
   ],
   "source": [
    "s = (42)\n",
    "s"
   ]
  },
  {
   "cell_type": "markdown",
   "id": "f447d417",
   "metadata": {},
   "source": [
    "Question 15"
   ]
  },
  {
   "cell_type": "markdown",
   "id": "7e5503d8",
   "metadata": {},
   "source": [
    "To get list value in tuple form zip function can be used.\n",
    "To convert tuple to list, list(tuple) function can be used."
   ]
  },
  {
   "cell_type": "markdown",
   "id": "d45375fd",
   "metadata": {},
   "source": [
    "Question 16"
   ]
  },
  {
   "cell_type": "markdown",
   "id": "cdbcd688",
   "metadata": {},
   "source": [
    "Variables contain references to list values rather than list value themselves"
   ]
  },
  {
   "cell_type": "markdown",
   "id": "d9c42a18",
   "metadata": {},
   "source": [
    "Question 17"
   ]
  },
  {
   "cell_type": "markdown",
   "id": "c26bc077",
   "metadata": {},
   "source": [
    "copy() creates reference to original object changing it will change the original object, whereas deepcopy() creates a new object and copies the object to new one any changes made wont affect the original object "
   ]
  }
 ],
 "metadata": {
  "kernelspec": {
   "display_name": "Python 3",
   "language": "python",
   "name": "python3"
  },
  "language_info": {
   "codemirror_mode": {
    "name": "ipython",
    "version": 3
   },
   "file_extension": ".py",
   "mimetype": "text/x-python",
   "name": "python",
   "nbconvert_exporter": "python",
   "pygments_lexer": "ipython3",
   "version": "3.8.8"
  }
 },
 "nbformat": 4,
 "nbformat_minor": 5
}
